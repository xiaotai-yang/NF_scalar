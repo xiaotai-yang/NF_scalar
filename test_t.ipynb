{
 "cells": [
  {
   "cell_type": "code",
   "execution_count": 1,
   "id": "initial_id",
   "metadata": {
    "collapsed": true,
    "ExecuteTime": {
     "end_time": "2024-07-15T13:52:55.021608Z",
     "start_time": "2024-07-15T13:52:53.785758Z"
    }
   },
   "outputs": [],
   "source": [
    "import numpy as np\n",
    "import jax\n",
    "import jax.numpy as jnp\n",
    "import jax.lax as lax\n",
    "from jax import random\n",
    "from jax.random import PRNGKey, normal\n",
    "import matplotlib.pyplot as plt\n",
    "from functools import partial\n",
    "from jax import vmap\n",
    "from jax.tree import map\n",
    "import time\n",
    "import optax"
   ]
  },
  {
   "cell_type": "code",
   "outputs": [],
   "source": [],
   "metadata": {
    "collapsed": false,
    "ExecuteTime": {
     "end_time": "2024-07-15T13:52:55.036856Z",
     "start_time": "2024-07-15T13:52:55.024383Z"
    }
   },
   "id": "4c27200e22e6b8af",
   "execution_count": 1
  },
  {
   "cell_type": "code",
   "outputs": [],
   "source": [],
   "metadata": {
    "collapsed": false,
    "ExecuteTime": {
     "end_time": "2024-07-15T13:52:55.052112Z",
     "start_time": "2024-07-15T13:52:55.037857Z"
    }
   },
   "id": "5b9a20750487c503",
   "execution_count": 1
  },
  {
   "cell_type": "code",
   "outputs": [],
   "source": [
    "def initial_mask(L, size_f, dtype=jnp.float32):\n",
    "    shift = int((L-1)/2)\n",
    "    A = jnp.zeros((size_f, L+1, L+1), dtype=dtype)\n",
    "    A1 = jnp.transpose(A, (0, 2, 1))\n",
    "    A2 = A[:,::-1, :]\n",
    "    A3 = A[:, :, ::-1]\n",
    "    A4 = A[:, ::-1, ::-1]\n",
    "    A5 = A1[:, :, ::-1]\n",
    "    A6 = A1[:, ::-1, :]\n",
    "    A7 = A1[:, ::-1, ::-1]\n",
    "    mask = (A+A1+A2+A3+A4+A5+A6+A7)/8\n",
    "    return jnp.roll(mask[:, :-1, :-1], (shift, shift), axis=(1, 2))"
   ],
   "metadata": {
    "collapsed": false,
    "ExecuteTime": {
     "end_time": "2024-07-15T13:52:55.067693Z",
     "start_time": "2024-07-15T13:52:55.053111Z"
    }
   },
   "id": "9ad4ed0f8b1a3f6",
   "execution_count": 2
  },
  {
   "cell_type": "code",
   "outputs": [],
   "source": [
    "@jax.jit\n",
    "def phi4_action(phi, m2, lam):\n",
    "    \"\"\"Compute the Euclidean action for the scalar phi^4 theory.\n",
    "\n",
    "    The Lagrangian density is kin(phi) + m2 * phi + l * phi^4\n",
    "\n",
    "    Args:\n",
    "        phi: Single field configuration of shape L^d.\n",
    "        m2: Mass squared term (can be negative).\n",
    "        lam: Coupling constant for phi^4 term.\n",
    "\n",
    "    Returns:\n",
    "        Scalar, the action of the field configuration..\n",
    "    \"\"\"\n",
    "\n",
    "    a = m2 * phi ** 2\n",
    "    if lam is not None:\n",
    "        a += lam * phi ** 4\n",
    "    # Kinetic term\n",
    "    a += jnp.sum(jnp.array([phi*(phi - jnp.roll(phi, 1, d)/2 - jnp.roll(phi, -1, d)/2)  for d in range(len(phi.shape))]))\n",
    "\n",
    "    return jnp.sum(a)\n",
    "\n",
    "@jax.jit\n",
    "def diff_phi4_action(phi, m2, lam):\n",
    "    a = 2 * m2 * phi\n",
    "    if lam is not None:\n",
    "        a += 4 * lam * phi ** 3\n",
    "    for d in range(len(phi.shape)):\n",
    "        a += 2*phi - jnp.roll(phi, 1, d) - jnp.roll(phi, -1, d)\n",
    "    return a\n"
   ],
   "metadata": {
    "collapsed": false,
    "ExecuteTime": {
     "end_time": "2024-07-15T13:52:55.082844Z",
     "start_time": "2024-07-15T13:52:55.070696Z"
    }
   },
   "id": "a045d61426e1e0ae",
   "execution_count": 3
  },
  {
   "cell_type": "code",
   "outputs": [],
   "source": [
    "def compute_ess(logp, logq):\n",
    "    logw = logp - logq\n",
    "    log_ess = 2 * jax.scipy.special.logsumexp(logw, axis=0) - jax.scipy.special.logsumexp(2 * logw, axis=0)\n",
    "    ess_per_cfg = jnp.exp(log_ess) / len(logw)\n",
    "    return ess_per_cfg"
   ],
   "metadata": {
    "collapsed": false,
    "ExecuteTime": {
     "end_time": "2024-07-15T13:52:55.098802Z",
     "start_time": "2024-07-15T13:52:55.083950Z"
    }
   },
   "id": "9c8c0de5b7bef66b",
   "execution_count": 4
  },
  {
   "cell_type": "code",
   "outputs": [],
   "source": [
    "def normal_pdf(x):\n",
    "    \"\"\"Calculate the PDF of a standard normal distribution.\"\"\"\n",
    "    return (1 / jnp.sqrt(2 * jnp.pi)) * jnp.exp(-0.5 * x ** 2)\n",
    "\n",
    "def get_batch(num_samples, L, seed):\n",
    "    #   Generate a batch of samples from a standard normal distribution.\n",
    "    key = PRNGKey(seed)\n",
    "    x = normal(key, (num_samples, L, L))\n",
    "    logp_x= jnp.sum(jnp.log(normal_pdf(x)), axis=(1, 2)) # log probability of each sample\n",
    "    diff_logp_x =  x * ( -1 / jnp.sqrt(2 * jnp.pi)) # gradient of log probability\n",
    "    \n",
    "    return(x, logp_x, diff_logp_x)\n",
    "\n"
   ],
   "metadata": {
    "collapsed": false,
    "ExecuteTime": {
     "end_time": "2024-07-15T13:52:55.457162Z",
     "start_time": "2024-07-15T13:52:55.443063Z"
    }
   },
   "id": "8278d6bbdb48f5c",
   "execution_count": 5
  },
  {
   "cell_type": "code",
   "outputs": [],
   "source": [
    "#@partial(jax.custom_vjp, nondiff_argnums=(0, 1))\n",
    "def mul_const_tree(tree, const):\n",
    "    \"\"\"Multiplies every element in the pytree by a constant.\"\"\"\n",
    "    return jax.tree.map(lambda x: x * const, tree)\n",
    "\n",
    "def add_trees(*trees):\n",
    "    \"\"\"Adds multiple pytrees together.\"\"\"\n",
    "    return jax.tree.map(lambda *xs: sum(xs), *trees)\n",
    "    \n",
    "@jax.jit\n",
    "def rk4_odeint (step_size, input_, ts, W_a, omega_a):\n",
    "    def func_(input_, t,  W_a, omega_a):\n",
    "        x, logp_x, d_logp_x, diff_xf_W, diff_xf_omega = input_\n",
    "        #jax.debug.print(\"W_a:{}\", W_a.shape)\n",
    "        W = W_t(W_a, t)\n",
    "        omega = omega_t(omega_a, t)\n",
    "        a_w = jnp.concatenate((jnp.array([1., ]), jnp.sin((jnp.arange(W_a.shape[0]-1)+1)*t)), axis = 0)\n",
    "        a_omega = jnp.concatenate((jnp.array([1., ]), jnp.sin((jnp.arange(omega_a.shape[0]-1)+1)*t)), axis = 0)\n",
    "        return (jnp.sum(jnp.fft.ifft2(jnp.fft.fft2(W)*jnp.fft.fft2(jnp.sin(omega.reshape(-1, 1, 1)* x))).real, axis = 0), \n",
    "                jnp.sum(W[:,0,0].reshape(-1, 1, 1)*(omega.reshape(-1, 1, 1)*jnp.cos(omega.reshape(-1, 1, 1)*x))),\n",
    "                -jnp.sum(omega.reshape(-1, 1, 1)*jnp.cos(omega.reshape(-1, 1, 1)*x)*jnp.fft.ifft2(jnp.flip(jnp.roll(jnp.fft.fft2(W), (-1, -1), (-1, -2)), (-1, -2))*jnp.fft.fft2(d_logp_x)).real, axis = 0)+jnp.sum(W[:,0,0].reshape(-1, 1, 1)*((omega**2).reshape(-1, 1, 1)*jnp.sin(omega.reshape(-1, 1, 1)*x)), axis = 0),\n",
    "                a_w.reshape(-1, 1, 1, 1)*jnp.sin(omega.reshape(-1, 1, 1)*x),\n",
    "                a_omega.reshape(-1, 1, 1, 1)*jnp.fft.ifft2(jnp.fft.fft2(W)*jnp.fft.fft2(x*jnp.cos(omega.reshape(-1, 1, 1)*x))).real)\n",
    "    \n",
    "\n",
    "    \"\"\"Integrate a system of ODEs using the 4th order Runge-Kutta method.\"\"\"\n",
    "    def step_func(cur_y, cur_t, dt):\n",
    "        \"\"\"Take one step of RK4.\"\"\"\n",
    "        k1 = func(cur_y, cur_t, W_a, omega_a)\n",
    "        k2 = func(add_trees(cur_y, mul_const_tree(k1, dt * 0.4)), cur_t + dt * 0.4, W_a, omega_a)\n",
    "        k3 = func(add_trees(cur_y, mul_const_tree(k1, dt * 0.29697761), mul_const_tree(k2, dt * 0.15875964)), cur_t + dt * 0.45573725, W_a, omega_a)\n",
    "        k4 = func(add_trees(cur_y, mul_const_tree(k1, dt * 0.21810040), mul_const_tree(k2, -dt * 3.05096516), mul_const_tree(k3, dt * 3.83286476)), cur_t + dt, W_a, omega_a)\n",
    "\n",
    "        final_step = add_trees(\n",
    "            mul_const_tree(k1, dt * 0.17476028),\n",
    "            mul_const_tree(k2, -dt * 0.55148066),\n",
    "            mul_const_tree(k3, dt * 1.20553560),\n",
    "            mul_const_tree(k4, dt * 0.17118478)\n",
    "        )\n",
    "        return final_step\n",
    "\n",
    "    def cond_fun(carry):\n",
    "        \"\"\"Check if we've reached the last timepoint.\"\"\"\n",
    "        cur_y, cur_t = carry\n",
    "        return cur_t < ts[1]\n",
    "\n",
    "    def body_fun(carry):\n",
    "        \"\"\"Take one step of RK4.\"\"\"\n",
    "        cur_y, cur_t = carry\n",
    "        next_t = jnp.minimum(cur_t + step_size, ts[1])\n",
    "        dt = next_t - cur_t\n",
    "        dy = step_func(cur_y, cur_t, dt)\n",
    "        return add_trees(cur_y, dy), next_t\n",
    "    \n",
    "    func = vmap(func_, in_axes=(0, None, None, None))\n",
    "    init_carry = (input_, ts[0])\n",
    "    y1, t1 = jax.lax.while_loop(cond_fun, body_fun, init_carry)\n",
    "    return y1\n",
    "'''\n",
    "input: (x, log(p(x)), dlog(p(x))/dx), t, W, omega\n",
    "return: f(x, t, W, omega), tr(df/dx), dln(p(x))/dx, df/dW, df/domega\n",
    "'''\n",
    "\n",
    "\n",
    "@jax.jit\n",
    "def forward(x0, log_px0, diff_logp_x0, diff_xf_W_t0, diff_xf_omega_t0, W, omega, t0, tf, dt):\n",
    "    \n",
    "    xf, logp_prob, diff_logp_x, int_diff_xf_W, int_diff_xf_omega = rk4_odeint(dt, (x0, log_px0, diff_logp_x0, diff_xf_W_t0, diff_xf_omega_t0), jnp.array([t0, tf]), W, omega)\n",
    "    # Mean is taken over the batch dimension to get the avarged gradient\n",
    "    #print(\"int_diff_xf_W\", int_diff_xf_W.shape)\n",
    "    #print(\"diff_logp_x\", diff_logp_x.shape)\n",
    "    \n",
    "    \n",
    "    return xf, logp_prob, diff_logp_x, int_diff_xf_W, int_diff_xf_omega \n",
    "    \n",
    "def W_t(a, t):\n",
    "    return a[0]+jnp.sum(a[1:]*(jnp.sin((jnp.arange(a.shape[0]-1)+1)*t).reshape(-1, 1, 1, 1)), axis = 0)\n",
    "def omega_t(a, t):\n",
    "    return a[0]+jnp.sum(a[1:]*(jnp.sin((jnp.arange(a.shape[0]-1)+1)*t)).reshape(-1, 1), axis = 0)"
   ],
   "metadata": {
    "collapsed": false,
    "ExecuteTime": {
     "end_time": "2024-07-15T13:52:55.845076Z",
     "start_time": "2024-07-15T13:52:55.816808Z"
    }
   },
   "id": "b3a985fae6d7be8f",
   "execution_count": 6
  },
  {
   "cell_type": "code",
   "outputs": [
    {
     "name": "stdout",
     "output_type": "stream",
     "text": [
      "ess: 0.015625\n",
      "itert:  2.563152551651001\n",
      "Iter: 0, loss: 521.7842\n",
      "ess: 0.015727377\n",
      "itert:  0.26273012161254883\n",
      "Iter: 10, loss: 570.9979\n"
     ]
    },
    {
     "ename": "KeyboardInterrupt",
     "evalue": "",
     "output_type": "error",
     "traceback": [
      "\u001B[1;31m---------------------------------------------------------------------------\u001B[0m",
      "\u001B[1;31mKeyboardInterrupt\u001B[0m                         Traceback (most recent call last)",
      "Cell \u001B[1;32mIn[7], line 26\u001B[0m\n\u001B[0;32m     24\u001B[0m diff_xf_W_t0 \u001B[38;5;241m=\u001B[39m jnp\u001B[38;5;241m.\u001B[39mzeros_like(jnp\u001B[38;5;241m.\u001B[39mrepeat(W_a[\u001B[38;5;28;01mNone\u001B[39;00m, :], num_samples, axis \u001B[38;5;241m=\u001B[39m \u001B[38;5;241m0\u001B[39m))\n\u001B[0;32m     25\u001B[0m diff_xf_omega_t0 \u001B[38;5;241m=\u001B[39m jnp\u001B[38;5;241m.\u001B[39mzeros_like(jnp\u001B[38;5;241m.\u001B[39mrepeat(W_a[\u001B[38;5;28;01mNone\u001B[39;00m, :], num_samples, axis \u001B[38;5;241m=\u001B[39m \u001B[38;5;241m0\u001B[39m))\n\u001B[1;32m---> 26\u001B[0m xf, logp_prob, diff_logp_x, int_diff_xf_W, int_diff_xf_omega  \u001B[38;5;241m=\u001B[39m \u001B[43mrk4_odeint\u001B[49m\u001B[43m(\u001B[49m\u001B[43mdt\u001B[49m\u001B[43m,\u001B[49m\u001B[43m \u001B[49m\u001B[43m(\u001B[49m\u001B[43mx0\u001B[49m\u001B[43m,\u001B[49m\u001B[43m \u001B[49m\u001B[43mlogp_x0\u001B[49m\u001B[43m,\u001B[49m\u001B[43m \u001B[49m\u001B[43mdlogp_x0\u001B[49m\u001B[43m,\u001B[49m\u001B[43m \u001B[49m\u001B[43mdiff_xf_W_t0\u001B[49m\u001B[43m,\u001B[49m\u001B[43m \u001B[49m\u001B[43mdiff_xf_omega_t0\u001B[49m\u001B[43m)\u001B[49m\u001B[43m,\u001B[49m\u001B[43m \u001B[49m\u001B[43mjnp\u001B[49m\u001B[38;5;241;43m.\u001B[39;49m\u001B[43marray\u001B[49m\u001B[43m(\u001B[49m\u001B[43m[\u001B[49m\u001B[43mt0\u001B[49m\u001B[43m,\u001B[49m\u001B[43m \u001B[49m\u001B[43mtf\u001B[49m\u001B[43m]\u001B[49m\u001B[43m)\u001B[49m\u001B[43m,\u001B[49m\u001B[43m \u001B[49m\u001B[43mW_a\u001B[49m\u001B[43m,\u001B[49m\u001B[43m \u001B[49m\u001B[43momega_a\u001B[49m\u001B[43m)\u001B[49m\n\u001B[0;32m     27\u001B[0m diff_logp_x \u001B[38;5;241m+\u001B[39m\u001B[38;5;241m=\u001B[39m batch_diff_phi4(xf)\n\u001B[0;32m     28\u001B[0m grad_w \u001B[38;5;241m=\u001B[39m jnp\u001B[38;5;241m.\u001B[39mmean(jnp\u001B[38;5;241m.\u001B[39mfft\u001B[38;5;241m.\u001B[39mifft2(jnp\u001B[38;5;241m.\u001B[39mflip(jnp\u001B[38;5;241m.\u001B[39mroll(jnp\u001B[38;5;241m.\u001B[39mfft\u001B[38;5;241m.\u001B[39mfft2(int_diff_xf_W), (\u001B[38;5;241m-\u001B[39m\u001B[38;5;241m1\u001B[39m, \u001B[38;5;241m-\u001B[39m\u001B[38;5;241m1\u001B[39m), axis\u001B[38;5;241m=\u001B[39m(\u001B[38;5;241m-\u001B[39m\u001B[38;5;241m2\u001B[39m, \u001B[38;5;241m-\u001B[39m\u001B[38;5;241m1\u001B[39m)), (\u001B[38;5;241m-\u001B[39m\u001B[38;5;241m2\u001B[39m, \u001B[38;5;241m-\u001B[39m\u001B[38;5;241m1\u001B[39m)) \u001B[38;5;241m*\u001B[39m jnp\u001B[38;5;241m.\u001B[39mfft\u001B[38;5;241m.\u001B[39mfft2(diff_logp_x)[:, \u001B[38;5;28;01mNone\u001B[39;00m, \u001B[38;5;28;01mNone\u001B[39;00m])\u001B[38;5;241m.\u001B[39mreal, axis \u001B[38;5;241m=\u001B[39m \u001B[38;5;241m0\u001B[39m)\n",
      "\u001B[1;31mKeyboardInterrupt\u001B[0m: "
     ]
    }
   ],
   "source": [
    "L = 4\n",
    "lr = 0.01\n",
    "seed = 0 \n",
    "train_steps = 500\n",
    "num_samples = 64\n",
    "f = 8\n",
    "N_samples = 1000\n",
    "t0, tf, dt = 0., 1., 0.02\n",
    "m2 = -1\n",
    "lam = 1\n",
    "t_kernel = 16\n",
    "W_a = jnp.zeros((t_kernel, f, L, L))\n",
    "omega_0 = jnp.arange(f)+0.5\n",
    "omega_a = jnp.concatenate((omega_0[None, :], jnp.zeros((t_kernel-1, f))), axis = 0) \n",
    "solver = optax.adam(learning_rate=lr)\n",
    "params = (W_a, omega_a)\n",
    "opt_state = solver.init(params)\n",
    "batch_phi4 = jax.jit(vmap(partial(phi4_action, m2 = m2, lam = lam), in_axes=(0, )))\n",
    "batch_diff_phi4 = jax.jit(vmap(partial(diff_phi4_action, m2 = m2, lam = lam), in_axes=(0, )))\n",
    "\n",
    "for i in range (train_steps):\n",
    "    t0_ = time.time()\n",
    "    x0, logp_x0, dlogp_x0 = get_batch(num_samples, L, seed)\n",
    "    diff_xf_W_t0 = jnp.zeros_like(jnp.repeat(W_a[None, :], num_samples, axis = 0))\n",
    "    diff_xf_omega_t0 = jnp.zeros_like(jnp.repeat(W_a[None, :], num_samples, axis = 0))\n",
    "    xf, logp_prob, diff_logp_x, int_diff_xf_W, int_diff_xf_omega  = rk4_odeint(dt, (x0, logp_x0, dlogp_x0, diff_xf_W_t0, diff_xf_omega_t0), jnp.array([t0, tf]), W_a, omega_a)\n",
    "    diff_logp_x += batch_diff_phi4(xf)\n",
    "    grad_w = jnp.mean(jnp.fft.ifft2(jnp.flip(jnp.roll(jnp.fft.fft2(int_diff_xf_W), (-1, -1), axis=(-2, -1)), (-2, -1)) * jnp.fft.fft2(diff_logp_x)[:, None, None]).real, axis = 0)\n",
    "    grad_omega = jnp.mean(jnp.sum(diff_logp_x[:, None, None]*int_diff_xf_omega, axis = (-2, -1)), axis = 0)\n",
    "    logp_xf = logp_x0 - logp_prob\n",
    "    logp = -batch_phi4(xf)\n",
    "    logp_x = logp_xf-logp\n",
    "    loss = logp_x.mean(0)\n",
    "    #print(\"W\", W.shape, \"omega\", omega.shape)\n",
    "    #print(\"grad_w\", grad_w.shape, \"grad_omega\", grad_omega.shape)\n",
    "    updates, opt_state = solver.update((grad_w, grad_omega), opt_state, params)\n",
    "    params = optax.apply_updates(params, updates)\n",
    "    W, omega = params\n",
    "    if i % 10 == 0:\n",
    "        print(\"ess:\", compute_ess(logp, logp_xf))  \n",
    "        print(\"itert: \", time.time() - t0_)\n",
    "        print('Iter: {}, loss: {:.4f}\\n'.format(i, loss.item()))\n",
    "        #print(\"grad_w\", grad_w)\n",
    "        #print(\"grad_omega\", grad_omega)\n",
    "    seed += 1\n",
    "    #print(jnp.linalg.norm(W-W_a), jnp.linalg.norm(omega-omega_a))"
   ],
   "metadata": {
    "collapsed": false,
    "ExecuteTime": {
     "end_time": "2024-07-15T13:53:03.112402Z",
     "start_time": "2024-07-15T13:52:56.231652Z"
    }
   },
   "id": "cf06f09ac1ee67a5",
   "execution_count": 7
  },
  {
   "cell_type": "code",
   "outputs": [
    {
     "data": {
      "text/plain": "(3, 4, 2, 5)"
     },
     "execution_count": 430,
     "metadata": {},
     "output_type": "execute_result"
    }
   ],
   "source": [
    "key = PRNGKey(0)\n",
    "a = random.normal(key, (3,))\n",
    "b = jnp.ones((4 ,2, 5))\n",
    "(a.reshape(-1, 1, 1, 1)*b).shape"
   ],
   "metadata": {
    "collapsed": false,
    "ExecuteTime": {
     "end_time": "2024-07-12T07:05:57.844557Z",
     "start_time": "2024-07-12T07:05:57.747228Z"
    }
   },
   "id": "72181af2fc436ac",
   "execution_count": 430
  },
  {
   "cell_type": "code",
   "outputs": [
    {
     "data": {
      "text/plain": "Array([1.        , 0.        , 0.47942555, 0.84147096],      dtype=float32, weak_type=True)"
     },
     "execution_count": 439,
     "metadata": {},
     "output_type": "execute_result"
    }
   ],
   "source": [
    "jnp.concatenate((jnp.array([1,]), jnp.sin(jnp.arange(3)*0.5)), axis = 0)"
   ],
   "metadata": {
    "collapsed": false,
    "ExecuteTime": {
     "end_time": "2024-07-12T07:21:15.393651Z",
     "start_time": "2024-07-12T07:21:15.209520Z"
    }
   },
   "id": "f67d631c0380a681",
   "execution_count": 439
  },
  {
   "cell_type": "code",
   "outputs": [
    {
     "name": "stdout",
     "output_type": "stream",
     "text": [
      "(2, 1) (1, 3, 4, 4)\n"
     ]
    },
    {
     "ename": "ValueError",
     "evalue": "Incompatible shapes for broadcasting: shapes=[(2,), (2, 3, 4, 4)]",
     "output_type": "error",
     "traceback": [
      "\u001B[1;31m---------------------------------------------------------------------------\u001B[0m",
      "\u001B[1;31mValueError\u001B[0m                                Traceback (most recent call last)",
      "    \u001B[1;31m[... skipping hidden 1 frame]\u001B[0m\n",
      "File \u001B[1;32m~\\PycharmProjects\\NF_scalar_field\\.venv\\lib\\site-packages\\jax\\_src\\util.py:311\u001B[0m, in \u001B[0;36mcache.<locals>.wrap.<locals>.wrapper\u001B[1;34m(*args, **kwargs)\u001B[0m\n\u001B[0;32m    310\u001B[0m \u001B[38;5;28;01melif\u001B[39;00m trace_context_in_key:\n\u001B[1;32m--> 311\u001B[0m   \u001B[38;5;28;01mreturn\u001B[39;00m cached(config\u001B[38;5;241m.\u001B[39mtrace_context(), \u001B[38;5;241m*\u001B[39margs, \u001B[38;5;241m*\u001B[39m\u001B[38;5;241m*\u001B[39mkwargs)\n\u001B[0;32m    312\u001B[0m \u001B[38;5;28;01melse\u001B[39;00m:\n",
      "File \u001B[1;32m~\\PycharmProjects\\NF_scalar_field\\.venv\\lib\\site-packages\\jax\\_src\\util.py:304\u001B[0m, in \u001B[0;36mcache.<locals>.wrap.<locals>.cached\u001B[1;34m(_, *args, **kwargs)\u001B[0m\n\u001B[0;32m    302\u001B[0m \u001B[38;5;129m@functools\u001B[39m\u001B[38;5;241m.\u001B[39mlru_cache(max_size)\n\u001B[0;32m    303\u001B[0m \u001B[38;5;28;01mdef\u001B[39;00m \u001B[38;5;21mcached\u001B[39m(_, \u001B[38;5;241m*\u001B[39margs, \u001B[38;5;241m*\u001B[39m\u001B[38;5;241m*\u001B[39mkwargs):\n\u001B[1;32m--> 304\u001B[0m   \u001B[38;5;28;01mreturn\u001B[39;00m f(\u001B[38;5;241m*\u001B[39margs, \u001B[38;5;241m*\u001B[39m\u001B[38;5;241m*\u001B[39mkwargs)\n",
      "File \u001B[1;32m~\\PycharmProjects\\NF_scalar_field\\.venv\\lib\\site-packages\\jax\\_src\\lax\\lax.py:156\u001B[0m, in \u001B[0;36m_broadcast_shapes_cached\u001B[1;34m(*shapes)\u001B[0m\n\u001B[0;32m    154\u001B[0m \u001B[38;5;129m@cache\u001B[39m()\n\u001B[0;32m    155\u001B[0m \u001B[38;5;28;01mdef\u001B[39;00m \u001B[38;5;21m_broadcast_shapes_cached\u001B[39m(\u001B[38;5;241m*\u001B[39mshapes: \u001B[38;5;28mtuple\u001B[39m[\u001B[38;5;28mint\u001B[39m, \u001B[38;5;241m.\u001B[39m\u001B[38;5;241m.\u001B[39m\u001B[38;5;241m.\u001B[39m]) \u001B[38;5;241m-\u001B[39m\u001B[38;5;241m>\u001B[39m \u001B[38;5;28mtuple\u001B[39m[\u001B[38;5;28mint\u001B[39m, \u001B[38;5;241m.\u001B[39m\u001B[38;5;241m.\u001B[39m\u001B[38;5;241m.\u001B[39m]:\n\u001B[1;32m--> 156\u001B[0m   \u001B[38;5;28;01mreturn\u001B[39;00m \u001B[43m_broadcast_shapes_uncached\u001B[49m\u001B[43m(\u001B[49m\u001B[38;5;241;43m*\u001B[39;49m\u001B[43mshapes\u001B[49m\u001B[43m)\u001B[49m\n",
      "File \u001B[1;32m~\\PycharmProjects\\NF_scalar_field\\.venv\\lib\\site-packages\\jax\\_src\\lax\\lax.py:172\u001B[0m, in \u001B[0;36m_broadcast_shapes_uncached\u001B[1;34m(*shapes)\u001B[0m\n\u001B[0;32m    171\u001B[0m \u001B[38;5;28;01mif\u001B[39;00m result_shape \u001B[38;5;129;01mis\u001B[39;00m \u001B[38;5;28;01mNone\u001B[39;00m:\n\u001B[1;32m--> 172\u001B[0m   \u001B[38;5;28;01mraise\u001B[39;00m \u001B[38;5;167;01mValueError\u001B[39;00m(\u001B[38;5;124mf\u001B[39m\u001B[38;5;124m\"\u001B[39m\u001B[38;5;124mIncompatible shapes for broadcasting: shapes=\u001B[39m\u001B[38;5;132;01m{\u001B[39;00m\u001B[38;5;28mlist\u001B[39m(shapes)\u001B[38;5;132;01m}\u001B[39;00m\u001B[38;5;124m\"\u001B[39m)\n\u001B[0;32m    173\u001B[0m \u001B[38;5;28;01mreturn\u001B[39;00m result_shape\n",
      "\u001B[1;31mValueError\u001B[0m: Incompatible shapes for broadcasting: shapes=[(2,), (2, 3, 4, 4)]",
      "\nDuring handling of the above exception, another exception occurred:\n",
      "\u001B[1;31mValueError\u001B[0m                                Traceback (most recent call last)",
      "Cell \u001B[1;32mIn[210], line 4\u001B[0m\n\u001B[0;32m      2\u001B[0m omega \u001B[38;5;241m=\u001B[39m jnp\u001B[38;5;241m.\u001B[39marange(\u001B[38;5;241m2\u001B[39m)\n\u001B[0;32m      3\u001B[0m \u001B[38;5;28mprint\u001B[39m(omega[:, \u001B[38;5;28;01mNone\u001B[39;00m]\u001B[38;5;241m.\u001B[39mshape, x0[\u001B[38;5;28;01mNone\u001B[39;00m, :]\u001B[38;5;241m.\u001B[39mshape)\n\u001B[1;32m----> 4\u001B[0m (\u001B[43momega\u001B[49m\u001B[43m \u001B[49m\u001B[38;5;241;43m*\u001B[39;49m\u001B[43m \u001B[49m\u001B[43m(\u001B[49m\u001B[43momega\u001B[49m\u001B[38;5;241;43m.\u001B[39;49m\u001B[43mreshape\u001B[49m\u001B[43m(\u001B[49m\u001B[38;5;241;43m-\u001B[39;49m\u001B[38;5;241;43m1\u001B[39;49m\u001B[43m,\u001B[49m\u001B[43m \u001B[49m\u001B[38;5;241;43m1\u001B[39;49m\u001B[43m,\u001B[49m\u001B[43m \u001B[49m\u001B[38;5;241;43m1\u001B[39;49m\u001B[43m,\u001B[49m\u001B[43m \u001B[49m\u001B[38;5;241;43m1\u001B[39;49m\u001B[43m)\u001B[49m\u001B[43m \u001B[49m\u001B[38;5;241;43m*\u001B[39;49m\u001B[43m \u001B[49m\u001B[43mx0\u001B[49m\u001B[43m)\u001B[49m)\u001B[38;5;241m.\u001B[39mshape\n",
      "File \u001B[1;32m~\\PycharmProjects\\NF_scalar_field\\.venv\\lib\\site-packages\\jax\\_src\\numpy\\array_methods.py:265\u001B[0m, in \u001B[0;36m_defer_to_unrecognized_arg.<locals>.deferring_binary_op\u001B[1;34m(self, other)\u001B[0m\n\u001B[0;32m    263\u001B[0m args \u001B[38;5;241m=\u001B[39m (other, \u001B[38;5;28mself\u001B[39m) \u001B[38;5;28;01mif\u001B[39;00m swap \u001B[38;5;28;01melse\u001B[39;00m (\u001B[38;5;28mself\u001B[39m, other)\n\u001B[0;32m    264\u001B[0m \u001B[38;5;28;01mif\u001B[39;00m \u001B[38;5;28misinstance\u001B[39m(other, _accepted_binop_types):\n\u001B[1;32m--> 265\u001B[0m   \u001B[38;5;28;01mreturn\u001B[39;00m \u001B[43mbinary_op\u001B[49m\u001B[43m(\u001B[49m\u001B[38;5;241;43m*\u001B[39;49m\u001B[43margs\u001B[49m\u001B[43m)\u001B[49m\n\u001B[0;32m    266\u001B[0m \u001B[38;5;66;03m# Note: don't use isinstance here, because we don't want to raise for\u001B[39;00m\n\u001B[0;32m    267\u001B[0m \u001B[38;5;66;03m# subclasses, e.g. NamedTuple objects that may override operators.\u001B[39;00m\n\u001B[0;32m    268\u001B[0m \u001B[38;5;28;01mif\u001B[39;00m \u001B[38;5;28mtype\u001B[39m(other) \u001B[38;5;129;01min\u001B[39;00m _rejected_binop_types:\n",
      "    \u001B[1;31m[... skipping hidden 11 frame]\u001B[0m\n",
      "File \u001B[1;32m~\\PycharmProjects\\NF_scalar_field\\.venv\\lib\\site-packages\\jax\\_src\\numpy\\ufuncs.py:101\u001B[0m, in \u001B[0;36m_maybe_bool_binop.<locals>.fn\u001B[1;34m(x1, x2)\u001B[0m\n\u001B[0;32m    100\u001B[0m \u001B[38;5;28;01mdef\u001B[39;00m \u001B[38;5;21mfn\u001B[39m(x1, x2, \u001B[38;5;241m/\u001B[39m):\n\u001B[1;32m--> 101\u001B[0m   x1, x2 \u001B[38;5;241m=\u001B[39m \u001B[43mpromote_args\u001B[49m\u001B[43m(\u001B[49m\u001B[43mnumpy_fn\u001B[49m\u001B[38;5;241;43m.\u001B[39;49m\u001B[38;5;18;43m__name__\u001B[39;49m\u001B[43m,\u001B[49m\u001B[43m \u001B[49m\u001B[43mx1\u001B[49m\u001B[43m,\u001B[49m\u001B[43m \u001B[49m\u001B[43mx2\u001B[49m\u001B[43m)\u001B[49m\n\u001B[0;32m    102\u001B[0m   \u001B[38;5;28;01mreturn\u001B[39;00m lax_fn(x1, x2) \u001B[38;5;28;01mif\u001B[39;00m x1\u001B[38;5;241m.\u001B[39mdtype \u001B[38;5;241m!=\u001B[39m np\u001B[38;5;241m.\u001B[39mbool_ \u001B[38;5;28;01melse\u001B[39;00m bool_lax_fn(x1, x2)\n",
      "File \u001B[1;32m~\\PycharmProjects\\NF_scalar_field\\.venv\\lib\\site-packages\\jax\\_src\\numpy\\util.py:381\u001B[0m, in \u001B[0;36mpromote_args\u001B[1;34m(fun_name, *args)\u001B[0m\n\u001B[0;32m    379\u001B[0m _check_no_float0s(fun_name, \u001B[38;5;241m*\u001B[39margs)\n\u001B[0;32m    380\u001B[0m check_for_prngkeys(fun_name, \u001B[38;5;241m*\u001B[39margs)\n\u001B[1;32m--> 381\u001B[0m \u001B[38;5;28;01mreturn\u001B[39;00m \u001B[43mpromote_shapes\u001B[49m\u001B[43m(\u001B[49m\u001B[43mfun_name\u001B[49m\u001B[43m,\u001B[49m\u001B[43m \u001B[49m\u001B[38;5;241;43m*\u001B[39;49m\u001B[43mpromote_dtypes\u001B[49m\u001B[43m(\u001B[49m\u001B[38;5;241;43m*\u001B[39;49m\u001B[43margs\u001B[49m\u001B[43m)\u001B[49m\u001B[43m)\u001B[49m\n",
      "File \u001B[1;32m~\\PycharmProjects\\NF_scalar_field\\.venv\\lib\\site-packages\\jax\\_src\\numpy\\util.py:250\u001B[0m, in \u001B[0;36mpromote_shapes\u001B[1;34m(fun_name, *args)\u001B[0m\n\u001B[0;32m    248\u001B[0m \u001B[38;5;28;01mif\u001B[39;00m config\u001B[38;5;241m.\u001B[39mnumpy_rank_promotion\u001B[38;5;241m.\u001B[39mvalue \u001B[38;5;241m!=\u001B[39m \u001B[38;5;124m\"\u001B[39m\u001B[38;5;124mallow\u001B[39m\u001B[38;5;124m\"\u001B[39m:\n\u001B[0;32m    249\u001B[0m   _rank_promotion_warning_or_error(fun_name, shapes)\n\u001B[1;32m--> 250\u001B[0m result_rank \u001B[38;5;241m=\u001B[39m \u001B[38;5;28mlen\u001B[39m(\u001B[43mlax\u001B[49m\u001B[38;5;241;43m.\u001B[39;49m\u001B[43mbroadcast_shapes\u001B[49m\u001B[43m(\u001B[49m\u001B[38;5;241;43m*\u001B[39;49m\u001B[43mshapes\u001B[49m\u001B[43m)\u001B[49m)\n\u001B[0;32m    251\u001B[0m \u001B[38;5;28;01mreturn\u001B[39;00m [_broadcast_to(arg, (\u001B[38;5;241m1\u001B[39m,) \u001B[38;5;241m*\u001B[39m (result_rank \u001B[38;5;241m-\u001B[39m \u001B[38;5;28mlen\u001B[39m(shp)) \u001B[38;5;241m+\u001B[39m shp)\n\u001B[0;32m    252\u001B[0m         \u001B[38;5;28;01mfor\u001B[39;00m arg, shp \u001B[38;5;129;01min\u001B[39;00m \u001B[38;5;28mzip\u001B[39m(args, shapes)]\n",
      "    \u001B[1;31m[... skipping hidden 1 frame]\u001B[0m\n",
      "File \u001B[1;32m~\\PycharmProjects\\NF_scalar_field\\.venv\\lib\\site-packages\\jax\\_src\\lax\\lax.py:172\u001B[0m, in \u001B[0;36m_broadcast_shapes_uncached\u001B[1;34m(*shapes)\u001B[0m\n\u001B[0;32m    170\u001B[0m result_shape \u001B[38;5;241m=\u001B[39m _try_broadcast_shapes(shape_list)\n\u001B[0;32m    171\u001B[0m \u001B[38;5;28;01mif\u001B[39;00m result_shape \u001B[38;5;129;01mis\u001B[39;00m \u001B[38;5;28;01mNone\u001B[39;00m:\n\u001B[1;32m--> 172\u001B[0m   \u001B[38;5;28;01mraise\u001B[39;00m \u001B[38;5;167;01mValueError\u001B[39;00m(\u001B[38;5;124mf\u001B[39m\u001B[38;5;124m\"\u001B[39m\u001B[38;5;124mIncompatible shapes for broadcasting: shapes=\u001B[39m\u001B[38;5;132;01m{\u001B[39;00m\u001B[38;5;28mlist\u001B[39m(shapes)\u001B[38;5;132;01m}\u001B[39;00m\u001B[38;5;124m\"\u001B[39m)\n\u001B[0;32m    173\u001B[0m \u001B[38;5;28;01mreturn\u001B[39;00m result_shape\n",
      "\u001B[1;31mValueError\u001B[0m: Incompatible shapes for broadcasting: shapes=[(2,), (2, 3, 4, 4)]"
     ]
    }
   ],
   "source": [
    "x0, logp_x0 = get_batch(num_samples, L, seed)\n",
    "omega = jnp.arange(2)\n",
    "print(omega[:, None].shape, x0[None, :].shape)\n",
    "(omega * (omega.reshape(-1, 1, 1, 1) * x0)).shape"
   ],
   "metadata": {
    "collapsed": false,
    "ExecuteTime": {
     "end_time": "2024-07-10T10:22:05.560617Z",
     "start_time": "2024-07-10T10:22:05.384295Z"
    }
   },
   "id": "e82b0928ab4eea3b",
   "execution_count": 210
  },
  {
   "cell_type": "code",
   "outputs": [
    {
     "name": "stdout",
     "output_type": "stream",
     "text": [
      "{'first': Array([[ 3,  6],\n",
      "       [ 9, 12]], dtype=int32), 'second': (Array([15, 18], dtype=int32), Array([21, 24], dtype=int32)), 'third': {'a': Array([27, 30], dtype=int32), 'b': Array([33, 36], dtype=int32)}}\n"
     ]
    },
    {
     "name": "stderr",
     "output_type": "stream",
     "text": [
      "C:\\Users\\Administrator\\AppData\\Local\\Temp\\ipykernel_6416\\3538021090.py:19: DeprecationWarning: jax.tree_map is deprecated: use jax.tree.map (jax v0.4.25 or newer) or jax.tree_util.tree_map (any JAX version).\n",
      "  result = jax.tree_map(multiply_by_constant, pytree)\n"
     ]
    }
   ],
   "source": [
    "import jax.numpy as jnp\n",
    "import jax\n",
    "\n",
    "# Define a multidimensional nested pytree\n",
    "pytree = {\n",
    "    'first': jnp.array([[1, 2], [3, 4]]),\n",
    "    'second': (jnp.array([5, 6]), jnp.array([7, 8])),\n",
    "    'third': {'a': jnp.array([9, 10]), 'b': jnp.array([11, 12])}\n",
    "}\n",
    "\n",
    "# Constant to multiply with\n",
    "constant = 3\n",
    "\n",
    "# Function to multiply an array by a constant\n",
    "def multiply_by_constant(array):\n",
    "    return constant * array\n",
    "\n",
    "# Multiply every element in the pytree by the constant\n",
    "result = jax.tree_map(multiply_by_constant, pytree)\n",
    "\n",
    "print(result)\n"
   ],
   "metadata": {
    "collapsed": false,
    "ExecuteTime": {
     "end_time": "2024-07-10T08:00:12.910006Z",
     "start_time": "2024-07-10T08:00:12.825272Z"
    }
   },
   "id": "9c4628e9aca068bc",
   "execution_count": 162
  },
  {
   "cell_type": "code",
   "outputs": [
    {
     "data": {
      "text/plain": "<Figure size 640x480 with 2 Axes>",
      "image/png": "[encoded data removed]"
     },
     "metadata": {},
     "output_type": "display_data"
    }
   ],
   "source": [
    "\n",
    "def serial_sample_generator(key, batch_size, N_sample, L, func):\n",
    "    config, logq, logp = None, None, None\n",
    "    for i in range(N_sample): \n",
    "        batch_i = i % batch_size\n",
    "        if batch_i == 0:\n",
    "            key, subkey = random.split(key)\n",
    "            x, logp_0 = get_batch(subkey, batch_size, L)\n",
    "            config, log_prob = func(x)\n",
    "\n",
    "            logq = logp_0 - log_prob\n",
    "            logp = -phi4_action(config)\n",
    "                \n",
    "        yield config[batch_i], logq[batch_i], logp[batch_i]\n",
    "\n",
    "def make_mcmc_ensemble(seed, batch_size, N_samples, L, func):\n",
    "    history = {\n",
    "        'x': [],\n",
    "        'logq': [],\n",
    "        'logp': [],\n",
    "        'accepted': []\n",
    "    }\n",
    "    key = PRNGKey(seed)\n",
    "    sample_gen = serial_sample_generator(key, batch_size, N_samples, L, func)\n",
    "    \n",
    "    for new_x, new_logq, new_logp in sample_gen:\n",
    "        if len(history['logp']) == 0:\n",
    "            # Always accept the first proposal; Markov chain must start somewhere\n",
    "            accepted = True\n",
    "        else:\n",
    "            # Metropolis acceptance condition\n",
    "            last_logp = history['logp'][-1]\n",
    "            last_logq = history['logq'][-1]\n",
    "            p_accept = jnp.exp((new_logp - new_logq) - (last_logp - last_logq))\n",
    "            p_accept = jnp.minimum(1, p_accept)\n",
    "\n",
    "            key, subkey = random.split(key)\n",
    "            draw = random.uniform(subkey)  # ~ [0, 1]\n",
    "            if draw < p_accept:\n",
    "                accepted = True\n",
    "            else:\n",
    "                accepted = False\n",
    "                new_x = history['x'][-1]\n",
    "                new_logp = last_logp\n",
    "                new_logq = last_logq\n",
    "\n",
    "        # Update Markov chain\n",
    "        history['logp'].append(new_logp)\n",
    "        history['logq'].append(new_logq)\n",
    "        history['x'].append(new_x)\n",
    "        history['accepted'].append(accepted)\n",
    "        \n",
    "    return history\n",
    "\n",
    "history = make_mcmc_ensemble(seed, batch_size, N_samples, L, func, action)\n",
    "print(history)\n"
   ],
   "metadata": {
    "collapsed": false,
    "ExecuteTime": {
     "end_time": "2024-07-06T09:21:47.912332Z",
     "start_time": "2024-07-06T09:21:47.599584Z"
    }
   },
   "id": "88d743267e839b0",
   "execution_count": 69
  },
  {
   "cell_type": "code",
   "outputs": [
    {
     "data": {
      "text/plain": "<Figure size 640x480 with 2 Axes>",
      "image/png": "[encoded data removed]"
     },
     "metadata": {},
     "output_type": "display_data"
    }
   ],
   "source": [
    "plt.imshow(jnp.roll(C, (2, 2), axis = (0, 1)), cmap='viridis', origin='lower')\n",
    "plt.colorbar()\n",
    "plt.show()"
   ],
   "metadata": {
    "collapsed": false,
    "ExecuteTime": {
     "end_time": "2024-07-06T09:22:03.123681Z",
     "start_time": "2024-07-06T09:22:02.769778Z"
    }
   },
   "id": "6d3912291f415c7f",
   "execution_count": 71
  },
  {
   "cell_type": "code",
   "outputs": [
    {
     "data": {
      "text/plain": "<Figure size 640x480 with 1 Axes>",
      "image/png": "[encoded data removed]"
     },
     "metadata": {},
     "output_type": "display_data"
    }
   ],
   "source": [],
   "metadata": {
    "collapsed": false,
    "ExecuteTime": {
     "end_time": "2024-07-05T09:56:00.456207Z",
     "start_time": "2024-07-05T09:55:58.508297Z"
    }
   },
   "id": "a4eb8c47b817187d",
   "execution_count": 47
  },
  {
   "cell_type": "code",
   "outputs": [],
   "source": [
    "a = random.normal(PRNGKey(0), (5, 5))\n",
    "b = random.normal(PRNGKey(2), (5, 5))\n",
    "x = random.normal(PRNGKey(1), (5, 5))"
   ],
   "metadata": {
    "collapsed": false,
    "ExecuteTime": {
     "end_time": "2024-07-11T07:07:11.232235Z",
     "start_time": "2024-07-11T07:07:11.213830Z"
    }
   },
   "id": "de28c56cd1d6017d",
   "execution_count": 385
  },
  {
   "cell_type": "code",
   "outputs": [],
   "source": [
    "A = jnp.zeros((5, 5, 5, 5))\n",
    "#B = jnp.diag(b)\n",
    "for i in range (5):\n",
    "    for j in range(5):\n",
    "        A = A.at[:, :, i, j].set(jnp.roll(a, (i, j), (0, 1)))"
   ],
   "metadata": {
    "collapsed": false,
    "ExecuteTime": {
     "end_time": "2024-07-11T07:06:21.524926Z",
     "start_time": "2024-07-11T07:06:21.386904Z"
    }
   },
   "id": "94df158d843773a6",
   "execution_count": 380
  },
  {
   "cell_type": "code",
   "outputs": [
    {
     "data": {
      "text/plain": "Array([-10.312873  ,   1.3553374 ,   8.305039  ,   2.1375406 ,\n         0.41786185,   5.031165  ,   4.115156  ,  -6.0894876 ,\n        -4.930898  ,  -8.026865  ,   5.453595  , -10.100704  ,\n         7.485309  ,   6.9605904 ,  -6.8144307 ,  -2.082107  ,\n         1.4352393 ,   4.045188  ,   2.203241  ,   5.9556894 ,\n         2.7917554 ,  -0.61893487,   1.5616025 ,  18.664637  ,\n        -9.298078  ], dtype=float32)"
     },
     "execution_count": 381,
     "metadata": {},
     "output_type": "execute_result"
    }
   ],
   "source": [
    "x.reshape(-1) @ A.reshape(25, -1)  "
   ],
   "metadata": {
    "collapsed": false,
    "ExecuteTime": {
     "end_time": "2024-07-11T07:06:22.094658Z",
     "start_time": "2024-07-11T07:06:22.066804Z"
    }
   },
   "id": "7023f072d625d5af",
   "execution_count": 381
  },
  {
   "cell_type": "code",
   "outputs": [
    {
     "name": "stdout",
     "output_type": "stream",
     "text": [
      "[[  5.184526     5.757245    -0.6624123   -5.0071344 ]\n",
      " [  5.4672713    2.208265    -0.79322284   4.9273157 ]\n",
      " [  7.4906       5.3027105    9.474638    -8.926132  ]\n",
      " [-11.792014     0.7700287    2.4271278    5.695247  ]\n",
      " [ -1.2668524    4.3507314    5.079117   -16.04248   ]]\n"
     ]
    },
    {
     "ename": "TypeError",
     "evalue": "sub got incompatible shapes for broadcasting: (5, 5), (5, 4).",
     "output_type": "error",
     "traceback": [
      "\u001B[1;31m---------------------------------------------------------------------------\u001B[0m",
      "\u001B[1;31mTypeError\u001B[0m                                 Traceback (most recent call last)",
      "Cell \u001B[1;32mIn[412], line 2\u001B[0m\n\u001B[0;32m      1\u001B[0m \u001B[38;5;28mprint\u001B[39m(jnp\u001B[38;5;241m.\u001B[39mfft\u001B[38;5;241m.\u001B[39mirfft2(jnp\u001B[38;5;241m.\u001B[39mfft\u001B[38;5;241m.\u001B[39mrfft2(a)\u001B[38;5;241m*\u001B[39mjnp\u001B[38;5;241m.\u001B[39mfft\u001B[38;5;241m.\u001B[39mrfft2(x)))\n\u001B[1;32m----> 2\u001B[0m \u001B[38;5;28mprint\u001B[39m(\u001B[43mjnp\u001B[49m\u001B[38;5;241;43m.\u001B[39;49m\u001B[43mfft\u001B[49m\u001B[38;5;241;43m.\u001B[39;49m\u001B[43mifft2\u001B[49m\u001B[43m(\u001B[49m\u001B[43mjnp\u001B[49m\u001B[38;5;241;43m.\u001B[39;49m\u001B[43mfft\u001B[49m\u001B[38;5;241;43m.\u001B[39;49m\u001B[43mfft2\u001B[49m\u001B[43m(\u001B[49m\u001B[43ma\u001B[49m\u001B[43m)\u001B[49m\u001B[38;5;241;43m*\u001B[39;49m\u001B[43mjnp\u001B[49m\u001B[38;5;241;43m.\u001B[39;49m\u001B[43mfft\u001B[49m\u001B[38;5;241;43m.\u001B[39;49m\u001B[43mfft2\u001B[49m\u001B[43m(\u001B[49m\u001B[43mx\u001B[49m\u001B[43m)\u001B[49m\u001B[43m)\u001B[49m\u001B[38;5;241;43m-\u001B[39;49m\u001B[43mjnp\u001B[49m\u001B[38;5;241;43m.\u001B[39;49m\u001B[43mfft\u001B[49m\u001B[38;5;241;43m.\u001B[39;49m\u001B[43mirfft2\u001B[49m\u001B[43m(\u001B[49m\u001B[43mjnp\u001B[49m\u001B[38;5;241;43m.\u001B[39;49m\u001B[43mfft\u001B[49m\u001B[38;5;241;43m.\u001B[39;49m\u001B[43mrfft2\u001B[49m\u001B[43m(\u001B[49m\u001B[43ma\u001B[49m\u001B[43m)\u001B[49m\u001B[38;5;241;43m*\u001B[39;49m\u001B[43mjnp\u001B[49m\u001B[38;5;241;43m.\u001B[39;49m\u001B[43mfft\u001B[49m\u001B[38;5;241;43m.\u001B[39;49m\u001B[43mrfft2\u001B[49m\u001B[43m(\u001B[49m\u001B[43mx\u001B[49m\u001B[43m)\u001B[49m\u001B[43m)\u001B[49m)\n",
      "File \u001B[1;32m~\\PycharmProjects\\NF_scalar_field\\.venv\\lib\\site-packages\\jax\\_src\\numpy\\array_methods.py:265\u001B[0m, in \u001B[0;36m_defer_to_unrecognized_arg.<locals>.deferring_binary_op\u001B[1;34m(self, other)\u001B[0m\n\u001B[0;32m    263\u001B[0m args \u001B[38;5;241m=\u001B[39m (other, \u001B[38;5;28mself\u001B[39m) \u001B[38;5;28;01mif\u001B[39;00m swap \u001B[38;5;28;01melse\u001B[39;00m (\u001B[38;5;28mself\u001B[39m, other)\n\u001B[0;32m    264\u001B[0m \u001B[38;5;28;01mif\u001B[39;00m \u001B[38;5;28misinstance\u001B[39m(other, _accepted_binop_types):\n\u001B[1;32m--> 265\u001B[0m   \u001B[38;5;28;01mreturn\u001B[39;00m \u001B[43mbinary_op\u001B[49m\u001B[43m(\u001B[49m\u001B[38;5;241;43m*\u001B[39;49m\u001B[43margs\u001B[49m\u001B[43m)\u001B[49m\n\u001B[0;32m    266\u001B[0m \u001B[38;5;66;03m# Note: don't use isinstance here, because we don't want to raise for\u001B[39;00m\n\u001B[0;32m    267\u001B[0m \u001B[38;5;66;03m# subclasses, e.g. NamedTuple objects that may override operators.\u001B[39;00m\n\u001B[0;32m    268\u001B[0m \u001B[38;5;28;01mif\u001B[39;00m \u001B[38;5;28mtype\u001B[39m(other) \u001B[38;5;129;01min\u001B[39;00m _rejected_binop_types:\n",
      "    \u001B[1;31m[... skipping hidden 11 frame]\u001B[0m\n",
      "File \u001B[1;32m~\\PycharmProjects\\NF_scalar_field\\.venv\\lib\\site-packages\\jax\\_src\\numpy\\ufuncs.py:86\u001B[0m, in \u001B[0;36m_one_to_one_binop.<locals>.<lambda>\u001B[1;34m(x1, x2)\u001B[0m\n\u001B[0;32m     84\u001B[0m   fn \u001B[38;5;241m=\u001B[39m \u001B[38;5;28;01mlambda\u001B[39;00m x1, x2, \u001B[38;5;241m/\u001B[39m: lax_fn(\u001B[38;5;241m*\u001B[39mpromote_args_numeric(numpy_fn\u001B[38;5;241m.\u001B[39m\u001B[38;5;18m__name__\u001B[39m, x1, x2))\n\u001B[0;32m     85\u001B[0m \u001B[38;5;28;01melse\u001B[39;00m:\n\u001B[1;32m---> 86\u001B[0m   fn \u001B[38;5;241m=\u001B[39m \u001B[38;5;28;01mlambda\u001B[39;00m x1, x2, \u001B[38;5;241m/\u001B[39m: \u001B[43mlax_fn\u001B[49m\u001B[43m(\u001B[49m\u001B[38;5;241;43m*\u001B[39;49m\u001B[43mpromote_args\u001B[49m\u001B[43m(\u001B[49m\u001B[43mnumpy_fn\u001B[49m\u001B[38;5;241;43m.\u001B[39;49m\u001B[38;5;18;43m__name__\u001B[39;49m\u001B[43m,\u001B[49m\u001B[43m \u001B[49m\u001B[43mx1\u001B[49m\u001B[43m,\u001B[49m\u001B[43m \u001B[49m\u001B[43mx2\u001B[49m\u001B[43m)\u001B[49m\u001B[43m)\u001B[49m\n\u001B[0;32m     87\u001B[0m fn\u001B[38;5;241m.\u001B[39m\u001B[38;5;18m__name__\u001B[39m \u001B[38;5;241m=\u001B[39m numpy_fn\u001B[38;5;241m.\u001B[39m\u001B[38;5;18m__name__\u001B[39m\n\u001B[0;32m     88\u001B[0m fn\u001B[38;5;241m.\u001B[39m\u001B[38;5;18m__qualname__\u001B[39m \u001B[38;5;241m=\u001B[39m \u001B[38;5;124mf\u001B[39m\u001B[38;5;124m\"\u001B[39m\u001B[38;5;124mjax.numpy.\u001B[39m\u001B[38;5;132;01m{\u001B[39;00mnumpy_fn\u001B[38;5;241m.\u001B[39m\u001B[38;5;18m__name__\u001B[39m\u001B[38;5;132;01m}\u001B[39;00m\u001B[38;5;124m\"\u001B[39m\n",
      "    \u001B[1;31m[... skipping hidden 7 frame]\u001B[0m\n",
      "File \u001B[1;32m~\\PycharmProjects\\NF_scalar_field\\.venv\\lib\\site-packages\\jax\\_src\\lax\\lax.py:1705\u001B[0m, in \u001B[0;36mbroadcasting_shape_rule\u001B[1;34m(name, *avals)\u001B[0m\n\u001B[0;32m   1703\u001B[0m       result_shape\u001B[38;5;241m.\u001B[39mappend(non_1s[\u001B[38;5;241m0\u001B[39m])\n\u001B[0;32m   1704\u001B[0m     \u001B[38;5;28;01melse\u001B[39;00m:\n\u001B[1;32m-> 1705\u001B[0m       \u001B[38;5;28;01mraise\u001B[39;00m \u001B[38;5;167;01mTypeError\u001B[39;00m(\u001B[38;5;124mf\u001B[39m\u001B[38;5;124m'\u001B[39m\u001B[38;5;132;01m{\u001B[39;00mname\u001B[38;5;132;01m}\u001B[39;00m\u001B[38;5;124m got incompatible shapes for broadcasting: \u001B[39m\u001B[38;5;124m'\u001B[39m\n\u001B[0;32m   1706\u001B[0m                       \u001B[38;5;124mf\u001B[39m\u001B[38;5;124m'\u001B[39m\u001B[38;5;132;01m{\u001B[39;00m\u001B[38;5;124m\"\u001B[39m\u001B[38;5;124m, \u001B[39m\u001B[38;5;124m\"\u001B[39m\u001B[38;5;241m.\u001B[39mjoin(\u001B[38;5;28mmap\u001B[39m(\u001B[38;5;28mstr\u001B[39m,\u001B[38;5;250m \u001B[39m\u001B[38;5;28mmap\u001B[39m(\u001B[38;5;28mtuple\u001B[39m,\u001B[38;5;250m \u001B[39mshapes)))\u001B[38;5;132;01m}\u001B[39;00m\u001B[38;5;124m.\u001B[39m\u001B[38;5;124m'\u001B[39m)\n\u001B[0;32m   1708\u001B[0m \u001B[38;5;28;01mreturn\u001B[39;00m \u001B[38;5;28mtuple\u001B[39m(result_shape)\n",
      "\u001B[1;31mTypeError\u001B[0m: sub got incompatible shapes for broadcasting: (5, 5), (5, 4)."
     ]
    }
   ],
   "source": [
    "print(jnp.fft.irfft2(jnp.fft.rfft2(a)*jnp.fft.rfft2(x)))\n",
    "print(jnp.fft.ifft2(jnp.fft.fft2(a)*jnp.fft.fft2(x))-jnp.fft.irfft2(jnp.fft.rfft2(a)*jnp.fft.rfft2(x)))"
   ],
   "metadata": {
    "collapsed": false,
    "ExecuteTime": {
     "end_time": "2024-07-11T07:55:36.700456Z",
     "start_time": "2024-07-11T07:55:36.309587Z"
    }
   },
   "id": "c3cbd95a1139aefc",
   "execution_count": 412
  },
  {
   "cell_type": "code",
   "outputs": [
    {
     "data": {
      "text/plain": "Array([[-10.76097   ,   4.8642273 ,   7.45218   ,   0.34746954],\n       [  5.0913787 ,   1.7605618 ,  -7.646684  ,  -9.106186  ],\n       [  0.9164314 ,  -6.56298   ,  12.376878  ,  -3.7459698 ],\n       [ -1.0699784 ,   2.813704  ,   3.7832906 ,   6.0302353 ],\n       [ -0.77656555,  -1.8902931 ,  15.859578  ,  -0.09173661]],      dtype=float32)"
     },
     "execution_count": 402,
     "metadata": {},
     "output_type": "execute_result"
    }
   ],
   "source": [
    "jnp.fft.irfft2(jnp.fft.rfft2(jnp.flip(jnp.roll(a, (-1, -1), (0, 1)), (0, 1)))*jnp.fft.rfft2(x))"
   ],
   "metadata": {
    "collapsed": false,
    "ExecuteTime": {
     "end_time": "2024-07-11T07:48:48.645863Z",
     "start_time": "2024-07-11T07:48:48.594345Z"
    }
   },
   "id": "554a59b7757c825a",
   "execution_count": 402
  },
  {
   "cell_type": "code",
   "outputs": [
    {
     "data": {
      "text/plain": "Array([[-10.312874  ,   1.3553377 ,   8.30504   ,   2.1375406 ,\n          0.41786146],\n       [  5.031166  ,   4.1151576 ,  -6.089489  ,  -4.9308968 ,\n         -8.026866  ],\n       [  5.4535966 , -10.100706  ,   7.4853106 ,   6.9605904 ,\n         -6.814432  ],\n       [ -2.082109  ,   1.4352422 ,   4.045188  ,   2.2032394 ,\n          5.9556904 ],\n       [  2.7917566 ,  -0.6189351 ,   1.5616021 ,  18.664639  ,\n         -9.2980795 ]], dtype=float32)"
     },
     "execution_count": 401,
     "metadata": {},
     "output_type": "execute_result"
    }
   ],
   "source": [
    "jnp.fft.ifft2(jnp.flip(jnp.roll(jnp.fft.fft2(a), (-1, -1), (0, 1)), (0, 1))*jnp.fft.fft2(x)).real"
   ],
   "metadata": {
    "collapsed": false,
    "ExecuteTime": {
     "end_time": "2024-07-11T07:25:20.951239Z",
     "start_time": "2024-07-11T07:25:20.926654Z"
    }
   },
   "id": "6e3928ae5ae7f1d7",
   "execution_count": 401
  },
  {
   "cell_type": "code",
   "outputs": [
    {
     "name": "stdout",
     "output_type": "stream",
     "text": [
      "[[-2.494135  +0.j          6.538946  +4.0398855j   4.8697853 -0.9876532j\n",
      "   4.8697853 +0.9876532j   6.538946  -4.0398855j ]\n",
      " [-0.703188  -3.5820036j  -4.539569  -3.408329j   -0.74701285+1.6244562j\n",
      "   2.3637197 +5.601881j    2.679139  +0.25742042j]\n",
      " [ 3.25467   -0.5325141j   1.2628762 +5.408951j    7.6984572 -1.1838031j\n",
      "   5.2242255 -1.9820566j   4.7994065 -3.4743454j ]\n",
      " [ 3.25467   +0.5325141j   4.7994065 +3.4743454j   5.2242255 +1.9820566j\n",
      "   7.6984572 +1.1838031j   1.2628762 -5.408951j  ]\n",
      " [-0.703188  +3.5820036j   2.679139  -0.25742042j  2.3637197 -5.601881j\n",
      "  -0.74701285-1.6244562j  -4.539569  +3.408329j  ]]\n",
      "[[-2.494135  +0.j          6.538946  +4.0398855j   4.8697853 -0.9876532j ]\n",
      " [-0.703188  -3.5820036j  -4.539569  -3.408329j   -0.74701285+1.6244562j ]\n",
      " [ 3.25467   -0.5325141j   1.2628762 +5.408951j    7.6984572 -1.1838031j ]\n",
      " [ 3.25467   +0.5325141j   4.7994065 +3.4743454j   5.2242255 +1.9820566j ]\n",
      " [-0.703188  +3.5820036j   2.679139  -0.25742042j  2.3637197 -5.601881j  ]]\n"
     ]
    }
   ],
   "source": [
    "print(jnp.fft.fft2(a))\n",
    "print(jnp.fft.rfft2(a))"
   ],
   "metadata": {
    "collapsed": false,
    "ExecuteTime": {
     "end_time": "2024-07-11T07:52:56.166325Z",
     "start_time": "2024-07-11T07:52:56.154114Z"
    }
   },
   "id": "30e5cc78defc4609",
   "execution_count": 409
  },
  {
   "cell_type": "code",
   "outputs": [
    {
     "data": {
      "text/plain": "Array([[  4.9020205 ,   2.2453184 ,   6.0527763 ,  -6.7956142 ,\n         -1.1322784 ],\n       [  3.8815095 ,   5.678655  ,  -5.1068444 ,   5.1702957 ,\n          2.1860118 ],\n       [ 10.11021   ,   5.2064524 ,   2.6752026 ,   9.035415  ,\n        -13.685467  ],\n       [-12.599644  ,   0.9317863 ,   0.87408686,   3.2554598 ,\n          4.638699  ],\n       [  2.087321  ,   2.5537457 ,   3.672504  ,   1.1157026 ,\n        -17.308756  ]], dtype=float32)"
     },
     "execution_count": 52,
     "metadata": {},
     "output_type": "execute_result"
    }
   ],
   "source": [
    "jnp.fft.irfft2(jnp.fft.fft2(a)*jnp.fft.fft2(x)).real"
   ],
   "metadata": {
    "collapsed": false,
    "ExecuteTime": {
     "end_time": "2024-07-07T18:00:38.428945Z",
     "start_time": "2024-07-07T18:00:38.420870Z"
    }
   },
   "id": "1160425257e6b450",
   "execution_count": 52
  },
  {
   "cell_type": "code",
   "outputs": [
    {
     "data": {
      "text/plain": "Array([ 0.37654224+1.6208858j ,  0.11268932+0.18692486j,\n       -0.8480058 -0.71362484j, -0.25279635+0.6915708j ,\n        0.49330994+0.39807048j,  0.17763071+0.79484814j,\n        0.11874819+0.6284215j , -0.21822615+0.20930941j,\n        0.41597053+0.5973944j ,  0.72988796+0.78545547j], dtype=complex64)"
     },
     "execution_count": 46,
     "metadata": {},
     "output_type": "execute_result"
    }
   ],
   "source": [
    "jnp.fft.ifft(jnp.fft.fft(a)*jnp.flip(jnp.fft.fft(x)))"
   ],
   "metadata": {
    "collapsed": false,
    "ExecuteTime": {
     "end_time": "2024-07-07T17:47:01.082551Z",
     "start_time": "2024-07-07T17:47:01.070438Z"
    }
   },
   "id": "e8484615dd94c5a0",
   "execution_count": 46
  },
  {
   "cell_type": "code",
   "outputs": [
    {
     "name": "stdout",
     "output_type": "stream",
     "text": [
      "[15 17 19]\n"
     ]
    }
   ],
   "source": [
    "import jax\n",
    "import jax.numpy as jnp\n",
    "\n",
    "# Define a function that takes a tuple of variables and other arguments\n",
    "def func(tuple_inputs, other_arg):\n",
    "    x, y = tuple_inputs\n",
    "    return x + y + other_arg\n",
    "\n",
    "# Create sample inputs\n",
    "tuple_inputs = (jnp.array([1, 2, 3]), jnp.array([4, 5, 6]))\n",
    "other_arg = 10\n",
    "\n",
    "# vmap over the first argument, which is a tuple of arrays\n",
    "vmap_func = jax.vmap(func, in_axes=((0, 0), None))\n",
    "\n",
    "# Apply the vectorized function\n",
    "result = vmap_func(tuple_inputs, other_arg)\n",
    "\n",
    "print(result)\n"
   ],
   "metadata": {
    "collapsed": false,
    "ExecuteTime": {
     "end_time": "2024-07-08T07:05:53.208092Z",
     "start_time": "2024-07-08T07:05:52.928626Z"
    }
   },
   "id": "c0255f0d87559e16",
   "execution_count": 70
  },
  {
   "cell_type": "code",
   "outputs": [
    {
     "name": "stdout",
     "output_type": "stream",
     "text": [
      "Mean of phi at each site:\n",
      "[[-0.02084269 -0.04688042 -0.00782732  0.02123604 -0.00534935 -0.01130287]\n",
      " [ 0.0349444  -0.01685274 -0.0345976  -0.03276006 -0.01401823  0.00484811]\n",
      " [ 0.01766219  0.01594599 -0.0224003  -0.01466751 -0.01506762 -0.01672972]\n",
      " [-0.00389764 -0.00179726 -0.02910209 -0.01523818  0.00689209  0.02025425]\n",
      " [ 0.01952039  0.00546976 -0.03853233 -0.00203145  0.00676094  0.02783773]\n",
      " [ 0.00264442 -0.00141732 -0.00139011 -0.0011639   0.02486651  0.03766876]]\n",
      "\n",
      "Variance of phi at each site:\n",
      "[[0.23560595 0.22775219 0.24827249 0.24176717 0.25163132 0.26949125]\n",
      " [0.25921766 0.27739367 0.25148738 0.2564274  0.24760861 0.26035504]\n",
      " [0.23612827 0.25062604 0.2365395  0.24721673 0.24340996 0.23828188]\n",
      " [0.25988671 0.25227032 0.26395597 0.23850429 0.24789426 0.2665859 ]\n",
      " [0.25984644 0.23838187 0.25143908 0.25660343 0.2581486  0.24644692]\n",
      " [0.25653173 0.24413597 0.25030288 0.2560526  0.26184092 0.24096225]]\n"
     ]
    },
    {
     "data": {
      "text/plain": "<Figure size 600x500 with 2 Axes>",
      "image/png": "[encoded data removed]"
     },
     "metadata": {},
     "output_type": "display_data"
    }
   ],
   "source": [
    "import numpy as np\n",
    "from scipy.linalg import cholesky\n",
    "import matplotlib.pyplot as plt\n",
    "\n",
    "\n",
    "\n",
    "def sample_gaussian_field(nx, ny, m2):\n",
    "    \"\"\"\n",
    "    Samples a field configuration phi from the Gaussian distribution defined by the action.\n",
    "    \n",
    "    Parameters:\n",
    "    - nx, ny: Number of lattice points in the x and y directions.\n",
    "    - m2: Mass squared parameter in the action.\n",
    "    \n",
    "    Returns:\n",
    "    - phi: A (nx, ny) array representing the sampled field configuration.\n",
    "    \"\"\"\n",
    "    N = nx * ny\n",
    "    # Construct Laplacian\n",
    "    L = construct_laplacian(nx, ny)\n",
    "    # Kernel matrix K = -L + m^2 * I\n",
    "    K = -L + m2 * np.eye(N)\n",
    "    # Compute covariance matrix C = K^{-1}\n",
    "    # For numerical stability and efficiency, we can solve K x = I instead of inverting\n",
    "    # However, for small N, inversion is acceptable\n",
    "    C = np.linalg.inv(K)\n",
    "    # Cholesky decomposition: C = LL^T\n",
    "    try:\n",
    "        L_chol = cholesky(C, lower=True)\n",
    "    except np.linalg.LinAlgError:\n",
    "        raise ValueError(\"Covariance matrix is not positive definite.\")\n",
    "    # Sample standard normal variables\n",
    "    z = np.random.randn(N)\n",
    "    # Generate phi = L * z\n",
    "    phi = L_chol @ z\n",
    "    # Reshape to (nx, ny)\n",
    "    phi = phi.reshape((nx, ny))\n",
    "    return phi\n",
    "\n",
    "def main():\n",
    "    # Lattice size\n",
    "    nx, ny = 6, 6\n",
    "    m2 = 1.0  # Example mass squared parameter\n",
    "    \n",
    "    # Number of samples\n",
    "    num_samples = 1000\n",
    "    samples = []\n",
    "    \n",
    "    for _ in range(num_samples):\n",
    "        phi = sample_gaussian_field(nx, ny, m2)\n",
    "        samples.append(phi)\n",
    "    \n",
    "    samples = np.array(samples)\n",
    "    \n",
    "    # Compute observables, e.g., mean and variance at each site\n",
    "    mean_phi = np.mean(samples, axis=0)\n",
    "    var_phi = np.var(samples, axis=0)\n",
    "    \n",
    "    # Display results\n",
    "    print(\"Mean of phi at each site:\")\n",
    "    print(mean_phi)\n",
    "    \n",
    "    print(\"\\nVariance of phi at each site:\")\n",
    "    print(var_phi)\n",
    "    \n",
    "    # Plot a sample configuration\n",
    "    plt.figure(figsize=(6,5))\n",
    "    plt.imshow(samples[0], cmap='viridis', interpolation='none')\n",
    "    plt.colorbar(label='phi')\n",
    "    plt.title('Sample Field Configuration')\n",
    "    plt.xlabel('y')\n",
    "    plt.ylabel('x')\n",
    "    plt.show()\n",
    "\n",
    "if __name__ == \"__main__\":\n",
    "    main()\n"
   ],
   "metadata": {
    "collapsed": false,
    "ExecuteTime": {
     "end_time": "2024-11-15T19:32:24.775949Z",
     "start_time": "2024-11-15T19:32:23.431019Z"
    }
   },
   "id": "28115cead869e6b1",
   "execution_count": 1
  },
  {
   "cell_type": "code",
   "outputs": [],
   "source": [
    "import jax\n",
    "from jax import vmap\n",
    "from jax.random import PRNGKey, normal, multivariate_normal\n",
    "import jax.numpy as jnp\n",
    "\n",
    "batch_dot1 = jax.jit(vmap(jnp.dot, (0, 0), 0))\n",
    "batch_dot2 = jax.jit(vmap(jnp.dot, (None, 0), 0))\n",
    "def construct_covariance(nx, ny, m2):\n",
    "    \"\"\"\n",
    "    Constructs the discrete Laplacian matrix for a 2D nx x ny lattice with periodic boundary conditions.\n",
    "\n",
    "    Parameters:\n",
    "    - nx, ny: Number of lattice points in the x and y directions.\n",
    "\n",
    "    Returns:\n",
    "    - L: The Laplacian matrix of size (nx*ny) x (nx*ny).\n",
    "    \"\"\"\n",
    "    N = nx * ny\n",
    "    La = jnp.eye(N)*(4 + m2)\n",
    "\n",
    "    for x in range(nx):\n",
    "        for y in range(ny):\n",
    "            index = x * ny + y\n",
    "            # Periodic boundary conditions: neighbors wrap around\n",
    "            neighbors = [\n",
    "                ((x + 1) % nx, y),  # Right\n",
    "                ((x - 1) % nx, y),  # Left\n",
    "                (x, (y + 1) % ny),  # Up\n",
    "                (x, (y - 1) % ny)  # Down\n",
    "            ]\n",
    "            # Off-diagonal elements\n",
    "            for (xn, yn) in neighbors:\n",
    "                neighbor_index = xn * ny + yn\n",
    "                La.at[index, neighbor_index].set(-1.0)\n",
    "    cov = jnp.linalg.inv(La)\n",
    "    detla = jnp.linalg.det(La)\n",
    "    return La, cov, detla\n",
    "def get_batch(num_samples, L, La, detla, cov, seed):\n",
    "    #   Generate a batch of samples from a standard normal distribution.\n",
    "    key = PRNGKey(seed)\n",
    "    x = multivariate_normal(key, jnp.zeros(L**2), cov, shape = (num_samples, L**2))\n",
    "    logp_x = -0.5*batch_dot1(x, batch_dot2(La, x))- L**2/2*jnp.log(2*jnp.pi) + jnp.log(detla)\n",
    "    #logp_x = jnp.sum(jnp.log(normal_pdf(x)), axis=(1, 2))  # log probability of each sample\n",
    "\n",
    "    return (x, logp_x, -x)\n"
   ],
   "metadata": {
    "collapsed": false,
    "ExecuteTime": {
     "end_time": "2024-11-15T20:31:17.710599Z",
     "start_time": "2024-11-15T20:31:17.698767Z"
    }
   },
   "id": "c4946c9bcec2a6e8",
   "execution_count": 14
  },
  {
   "cell_type": "code",
   "outputs": [],
   "source": [
    "def construct_covariance(nx, ny, m2):\n",
    "    \"\"\"\n",
    "    Constructs the discrete Laplacian matrix for a 2D nx x ny lattice with periodic boundary conditions.\n",
    "\n",
    "    Parameters:\n",
    "    - nx, ny: Number of lattice points in the x and y directions.\n",
    "\n",
    "    Returns:\n",
    "    - L: The Laplacian matrix of size (nx*ny) x (nx*ny).\n",
    "    \"\"\"\n",
    "    N = nx * ny\n",
    "    La = jnp.eye(N)*(4 - 2 * m2) * 2\n",
    "\n",
    "    for x in range(nx):\n",
    "        for y in range(ny):\n",
    "            index = x * ny + y\n",
    "            # Periodic boundary conditions: neighbors wrap around\n",
    "            neighbors = [\n",
    "                ((x + 1) % nx, y),  # Right\n",
    "                ((x - 1) % nx, y),  # Left\n",
    "                (x, (y + 1) % ny),  # Up\n",
    "                (x, (y - 1) % ny)  # Down\n",
    "            ]\n",
    "\n",
    "            # Off-diagonal elements\n",
    "            for (xn, yn) in neighbors:\n",
    "                neighbor_index = xn * ny + yn\n",
    "                La = La.at[index, neighbor_index].set(-2.0)\n",
    "    cov = jnp.linalg.inv(La)\n",
    "    detla = jnp.linalg.det(La)\n",
    "    C = jnp.linalg.cholesky(cov)\n",
    "    return  La, cov, detla, C\n",
    "\n",
    "def get_batch(num_samples, L, La, C, seed, m2, lam):\n",
    "    #   Generate a batch of samples from a standard normal distribution.\n",
    "    key = PRNGKey(seed)\n",
    "    x0 = normal(key, shape = (num_samples, L**2))\n",
    "    x = batch_dot2(C, x0)\n",
    "    logp_x = -0.5*jnp.sum(x0**2, axis = 1)\n",
    "    diff_logp_x = -batch_dot2(La, x).reshape(num_samples, L, L)\n",
    "    phi0 = jnp.tile(jnp.array([[jnp.sqrt(-m2/(2*lam)), -jnp.sqrt(-m2/(2*lam))]]), (num_samples, L**2//2))\n",
    "    x = (x+phi0).reshape(num_samples, L, L)\n",
    "    #logp_x = jnp.sum(jnp.log(normal_pdf(x)), axis=(1, 2))  # log probability of each sample\n",
    "\n",
    "    return (x, logp_x, diff_logp_x)"
   ],
   "metadata": {
    "collapsed": false,
    "ExecuteTime": {
     "end_time": "2024-11-16T03:55:51.515689Z",
     "start_time": "2024-11-16T03:55:51.496584Z"
    }
   },
   "id": "b6ba23619546a03d",
   "execution_count": 67
  },
  {
   "cell_type": "code",
   "outputs": [
    {
     "data": {
      "text/plain": "(Array([[[ 0.4248816 , -0.3713979 ,  0.7162948 , -0.51850384],\n         [ 0.67714   , -0.61886245,  0.49985927, -0.41221935],\n         [ 0.5822863 , -0.2912336 ,  0.33778012, -0.47989172],\n         [ 0.31675923, -0.31108916,  0.4654966 , -1.0819652 ]],\n \n        [[ 0.5982867 , -0.6879954 ,  0.792336  , -0.65507483],\n         [ 0.5006095 , -0.92141676,  0.42841592, -0.5222576 ],\n         [ 0.6188073 , -0.5018831 ,  0.34777528, -0.60562336],\n         [ 0.60264504, -0.84474003,  0.39567327, -0.36368716]]],      dtype=float32),\n Array([-7.2599936, -5.570796 ], dtype=float32),\n Array([[[ 2.8623457 , -3.5155094 , -4.1886587 , -1.1134331 ],\n         [-3.447678  ,  3.0299249 ,  0.90087295, -2.6010375 ],\n         [-0.67781454, -5.8816724 ,  5.1332474 , -2.482344  ],\n         [ 4.4775147 , -5.146121  ,  1.0016317 , 12.683378  ]],\n \n        [[-1.9870023 ,  2.9093115 , -7.2025166 ,  3.879643  ],\n         [ 0.3837204 ,  8.7407875 ,  1.9624008 , -0.98067206],\n         [-2.00837   , -2.405464  ,  3.938068  ,  1.8447281 ],\n         [-1.5946383 ,  7.039131  ,  3.2187185 , -4.6477776 ]]],      dtype=float32))"
     },
     "execution_count": 68,
     "metadata": {},
     "output_type": "execute_result"
    }
   ],
   "source": [
    "La, cov, delta, C = construct_covariance(4, 4, -4)\n",
    "get_batch(2, 4, La, C, 0, -4, 6.975)\n"
   ],
   "metadata": {
    "collapsed": false,
    "ExecuteTime": {
     "end_time": "2024-11-16T03:55:51.965526Z",
     "start_time": "2024-11-16T03:55:51.917258Z"
    }
   },
   "id": "5e738bf9b0a5255b",
   "execution_count": 68
  },
  {
   "cell_type": "code",
   "outputs": [
    {
     "name": "stdout",
     "output_type": "stream",
     "text": [
      "[[24. -2.  0. -2. -2.  0.  0.  0.  0.  0.  0.  0. -2.  0.  0.  0.]\n",
      " [-2. 24. -2.  0.  0. -2.  0.  0.  0.  0.  0.  0.  0. -2.  0.  0.]\n",
      " [ 0. -2. 24. -2.  0.  0. -2.  0.  0.  0.  0.  0.  0.  0. -2.  0.]\n",
      " [-2.  0. -2. 24.  0.  0.  0. -2.  0.  0.  0.  0.  0.  0.  0. -2.]\n",
      " [-2.  0.  0.  0. 24. -2.  0. -2. -2.  0.  0.  0.  0.  0.  0.  0.]\n",
      " [ 0. -2.  0.  0. -2. 24. -2.  0.  0. -2.  0.  0.  0.  0.  0.  0.]\n",
      " [ 0.  0. -2.  0.  0. -2. 24. -2.  0.  0. -2.  0.  0.  0.  0.  0.]\n",
      " [ 0.  0.  0. -2. -2.  0. -2. 24.  0.  0.  0. -2.  0.  0.  0.  0.]\n",
      " [ 0.  0.  0.  0. -2.  0.  0.  0. 24. -2.  0. -2. -2.  0.  0.  0.]\n",
      " [ 0.  0.  0.  0.  0. -2.  0.  0. -2. 24. -2.  0.  0. -2.  0.  0.]\n",
      " [ 0.  0.  0.  0.  0.  0. -2.  0.  0. -2. 24. -2.  0.  0. -2.  0.]\n",
      " [ 0.  0.  0.  0.  0.  0.  0. -2. -2.  0. -2. 24.  0.  0.  0. -2.]\n",
      " [-2.  0.  0.  0.  0.  0.  0.  0. -2.  0.  0.  0. 24. -2.  0. -2.]\n",
      " [ 0. -2.  0.  0.  0.  0.  0.  0.  0. -2.  0.  0. -2. 24. -2.  0.]\n",
      " [ 0.  0. -2.  0.  0.  0.  0.  0.  0.  0. -2.  0.  0. -2. 24. -2.]\n",
      " [ 0.  0.  0. -2.  0.  0.  0.  0.  0.  0.  0. -2. -2.  0. -2. 24.]]\n"
     ]
    }
   ],
   "source": [
    "print(La)"
   ],
   "metadata": {
    "collapsed": false,
    "ExecuteTime": {
     "end_time": "2024-11-16T03:55:53.272819Z",
     "start_time": "2024-11-16T03:55:53.253144Z"
    }
   },
   "id": "50331e1d04638862",
   "execution_count": 69
  },
  {
   "cell_type": "code",
   "outputs": [
    {
     "name": "stdout",
     "output_type": "stream",
     "text": [
      "43046736.0\n"
     ]
    }
   ],
   "source": [
    "print(detla)"
   ],
   "metadata": {
    "collapsed": false,
    "ExecuteTime": {
     "end_time": "2024-11-16T03:55:54.301604Z",
     "start_time": "2024-11-16T03:55:54.291253Z"
    }
   },
   "id": "c44274efea3eec8f",
   "execution_count": 70
  },
  {
   "cell_type": "code",
   "outputs": [
    {
     "data": {
      "text/plain": "Array([9.5367432e-07, 1.9999986e+00, 1.9999992e+00, 1.9999998e+00,\n       2.0000002e+00, 3.9999983e+00, 3.9999995e+00, 3.9999998e+00,\n       4.0000000e+00, 4.0000005e+00, 4.0000014e+00, 5.9999990e+00,\n       5.9999995e+00, 6.0000000e+00, 6.0000005e+00, 8.0000019e+00],      dtype=float32)"
     },
     "execution_count": 50,
     "metadata": {},
     "output_type": "execute_result"
    }
   ],
   "source": [
    "jnp.linalg.eigvalsh(La+jnp.eye(16)*4)"
   ],
   "metadata": {
    "collapsed": false,
    "ExecuteTime": {
     "end_time": "2024-11-15T21:57:24.711230Z",
     "start_time": "2024-11-15T21:57:24.652402Z"
    }
   },
   "id": "148ef6e4ae2d8078",
   "execution_count": 50
  },
  {
   "cell_type": "code",
   "outputs": [
    {
     "data": {
      "text/plain": "Array([[ 1, -1,  1, -1,  1, -1],\n       [ 1, -1,  1, -1,  1, -1]], dtype=int32)"
     },
     "execution_count": 52,
     "metadata": {},
     "output_type": "execute_result"
    }
   ],
   "source": [
    "jnp.tile(jnp.array([[1, -1]]), (2, 3))"
   ],
   "metadata": {
    "collapsed": false,
    "ExecuteTime": {
     "end_time": "2024-11-16T03:47:57.171602Z",
     "start_time": "2024-11-16T03:47:57.077033Z"
    }
   },
   "id": "c095a9a05b67fc7e",
   "execution_count": 52
  },
  {
   "cell_type": "code",
   "outputs": [],
   "source": [],
   "metadata": {
    "collapsed": false
   },
   "id": "9723d9e4cd9ab29b"
  }
 ],
 "metadata": {
  "kernelspec": {
   "display_name": "Python 3",
   "language": "python",
   "name": "python3"
  },
  "language_info": {
   "codemirror_mode": {
    "name": "ipython",
    "version": 2
   },
   "file_extension": ".py",
   "mimetype": "text/x-python",
   "name": "python",
   "nbconvert_exporter": "python",
   "pygments_lexer": "ipython2",
   "version": "2.7.6"
  }
 },
 "nbformat": 4,
 "nbformat_minor": 5
}
